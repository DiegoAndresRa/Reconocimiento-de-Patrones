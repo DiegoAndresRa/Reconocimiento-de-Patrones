{
  "cells": [
    {
      "cell_type": "markdown",
      "metadata": {},
      "source": [
        "### 4.1.De la carpeta de imágenes: realiza las siguientes actividades."
      ]
    },
    {
      "cell_type": "markdown",
      "metadata": {},
      "source": [
        "#### 4.1.1.Desarrolla un script para leer y desplegar cada imagen con los paquetes de Matplotlib, OpenCV, Scikit-Image y PIL."
      ]
    },
    {
      "cell_type": "markdown",
      "metadata": {},
      "source": [
        "**Matplotlib**"
      ]
    },
    {
      "cell_type": "code",
      "execution_count": null,
      "metadata": {},
      "outputs": [],
      "source": [
        "# Matplotlib\n",
        "import matplotlib.image as mpimg\n",
        "import matplotlib.pyplot as plt\n",
        "img=mpimg.imread('Images/lena_color_512.tif')\n",
        "imgplot = plt.imshow(img)"
      ]
    },
    {
      "cell_type": "code",
      "execution_count": null,
      "metadata": {},
      "outputs": [],
      "source": [
        "img=mpimg.imread('Images/cameraman.tif')\n",
        "imgplot = plt.imshow(img, cmap=\"gray\")"
      ]
    },
    {
      "cell_type": "code",
      "execution_count": null,
      "metadata": {},
      "outputs": [],
      "source": [
        "img=mpimg.imread('Images/house.bmp')\n",
        "imgplot = plt.imshow(img, cmap=\"gray\")"
      ]
    },
    {
      "cell_type": "code",
      "execution_count": null,
      "metadata": {},
      "outputs": [],
      "source": [
        "img=mpimg.imread('Images/lake.png')\n",
        "imgplot = plt.imshow(img, cmap=\"gray\")"
      ]
    },
    {
      "cell_type": "code",
      "execution_count": null,
      "metadata": {},
      "outputs": [],
      "source": [
        "img=mpimg.imread('Images/peppers_color2.jpg')\n",
        "imgplot = plt.imshow(img, cmap=\"gray\")"
      ]
    },
    {
      "cell_type": "markdown",
      "metadata": {},
      "source": [
        "**OpenCV**"
      ]
    },
    {
      "cell_type": "code",
      "execution_count": null,
      "metadata": {},
      "outputs": [],
      "source": [
        "import cv2\n",
        "import matplotlib.pyplot as plt\n",
        "\n",
        "# Leer imagen\n",
        "img = cv2.imread('Images/lena_color_512.tif')\n",
        "# Convertir BGR a RGB (OpenCV usa BGR por defecto)\n",
        "img_rgb = cv2.cvtColor(img, cv2.COLOR_BGR2RGB)\n",
        "\n",
        "# Mostrar con matplotlib\n",
        "plt.imshow(img_rgb)\n",
        "plt.axis('off')\n",
        "plt.show()\n",
        "\n",
        "plt.imshow(img)\n",
        "plt.axis('off')\n",
        "plt.show()\n",
        "# Alternativa mostrar con OpenCV (ventana nativa)\n",
        "# Colab no lo soporta\n",
        "# cv2.imshow('Imagen', img)"
      ]
    },
    {
      "cell_type": "markdown",
      "metadata": {},
      "source": [
        "**Scikit-Image**"
      ]
    },
    {
      "cell_type": "code",
      "execution_count": null,
      "metadata": {},
      "outputs": [],
      "source": [
        "img = cv2.imread('Images/cameraman.tif')\n",
        "# Convertir BGR a RGB\n",
        "img_rgb = cv2.cvtColor(img, cv2.COLOR_BGR2RGB)\n",
        "imgplot = plt.imshow(img_rgb)"
      ]
    },
    {
      "cell_type": "code",
      "execution_count": null,
      "metadata": {},
      "outputs": [],
      "source": [
        "img = cv2.imread('Images/house.bmp')\n",
        "# Convertir BGR a RGB\n",
        "img_rgb = cv2.cvtColor(img, cv2.COLOR_BGR2RGB)\n",
        "imgplot = plt.imshow(img_rgb)"
      ]
    },
    {
      "cell_type": "code",
      "execution_count": null,
      "metadata": {},
      "outputs": [],
      "source": [
        "img = cv2.imread('Images/lake.png')\n",
        "# Convertir BGR a RGB\n",
        "img_rgb = cv2.cvtColor(img, cv2.COLOR_BGR2RGB)\n",
        "imgplot = plt.imshow(img_rgb)"
      ]
    },
    {
      "cell_type": "code",
      "execution_count": null,
      "metadata": {},
      "outputs": [],
      "source": [
        "img = cv2.imread('Images/peppers_color2.jpg')\n",
        "# Convertir BGR a RGB\n",
        "img_rgb = cv2.cvtColor(img, cv2.COLOR_BGR2RGB)\n",
        "imgplot = plt.imshow(img_rgb)"
      ]
    },
    {
      "cell_type": "markdown",
      "metadata": {},
      "source": [
        "**Scikit-Image**"
      ]
    },
    {
      "cell_type": "code",
      "execution_count": null,
      "metadata": {},
      "outputs": [],
      "source": [
        "from skimage import io\n",
        "from skimage.color import rgb2gray\n",
        "import matplotlib.pyplot as plt\n",
        "\n",
        "# Leer imagen\n",
        "img = io.imread('Images/lena_color_512.tif')\n",
        "imgplot = plt.imshow(img)"
      ]
    },
    {
      "cell_type": "code",
      "execution_count": null,
      "metadata": {},
      "outputs": [],
      "source": [
        "img = io.imread('Images/cameraman.tif')\n",
        "imgplot = plt.imshow(img, cmap=\"gray\")"
      ]
    },
    {
      "cell_type": "code",
      "execution_count": null,
      "metadata": {},
      "outputs": [],
      "source": [
        "img = io.imread('Images/house.bmp')\n",
        "imgplot = plt.imshow(img)"
      ]
    },
    {
      "cell_type": "code",
      "execution_count": null,
      "metadata": {},
      "outputs": [],
      "source": [
        "img = io.imread('Images/lake.png')\n",
        "imgplot = plt.imshow(img)"
      ]
    },
    {
      "cell_type": "code",
      "execution_count": null,
      "metadata": {},
      "outputs": [],
      "source": [
        "img = io.imread('Images/peppers_color2.jpg')\n",
        "imgplot = plt.imshow(img)"
      ]
    },
    {
      "cell_type": "markdown",
      "metadata": {},
      "source": [
        "**PIL**"
      ]
    },
    {
      "cell_type": "code",
      "execution_count": null,
      "metadata": {},
      "outputs": [],
      "source": [
        "from PIL import Image\n",
        "import numpy as np\n",
        "\n",
        "# Leer imagen\n",
        "img = Image.open('Images/lena_color_512.tif')\n",
        "\n",
        "imgplot = plt.imshow(img, cmap=\"gray\")"
      ]
    },
    {
      "cell_type": "code",
      "execution_count": null,
      "metadata": {},
      "outputs": [],
      "source": [
        "img = Image.open('Images/cameraman.tif')\n",
        "\n",
        "imgplot = plt.imshow(img, cmap=\"gray\")"
      ]
    },
    {
      "cell_type": "code",
      "execution_count": null,
      "metadata": {},
      "outputs": [],
      "source": [
        "img = Image.open('Images/house.bmp')\n",
        "\n",
        "imgplot = plt.imshow(img, cmap=\"gray\")"
      ]
    },
    {
      "cell_type": "code",
      "execution_count": null,
      "metadata": {},
      "outputs": [],
      "source": [
        "img = Image.open('Images/lake.png')\n",
        "\n",
        "imgplot = plt.imshow(img, cmap=\"gray\")"
      ]
    },
    {
      "cell_type": "code",
      "execution_count": null,
      "metadata": {},
      "outputs": [],
      "source": [
        "img = Image.open('Images/peppers_color2.jpg')\n",
        "\n",
        "imgplot = plt.imshow(img)"
      ]
    },
    {
      "cell_type": "markdown",
      "metadata": {},
      "source": [
        "#### 4.1.2.Imprimir el tipo de imagen, el tamaño y el tipo de dato"
      ]
    },
    {
      "cell_type": "code",
      "execution_count": null,
      "metadata": {},
      "outputs": [],
      "source": [
        "import matplotlib.pyplot as plt\n",
        "import matplotlib.image as mpimg\n",
        "import cv2\n",
        "from skimage import io\n",
        "from PIL import Image\n",
        "import numpy as np\n",
        "\n",
        "# Ruta de la imagen\n",
        "cameraman = 'Images/cameraman.tif'\n",
        "house = 'Images/house.bmp'\n",
        "lake = 'Images/lake.png'\n",
        "lena = 'Images/lena_color_512.tif'\n",
        "peppers = 'Images/peppers_color2.jpg'\n",
        "\n",
        "\n",
        "\n",
        "# 1. Matplotlib\n",
        "print(\"\\n=== MATPLOTLIB ===\")\n",
        "print(\"Cameraman\")\n",
        "img_mpl = mpimg.imread(cameraman)\n",
        "print(f\"Tipo de objeto: {type(img_mpl)}\")\n",
        "print(f\"Tipo de dato: {img_mpl.dtype}\")\n",
        "print(f\"Tamaño en memoria: {img_mpl.nbytes / 1024:.2f} KB\")\n",
        "\n",
        "print(\"---------\\nPeppers\")\n",
        "img_mpl = mpimg.imread(peppers)\n",
        "print(f\"Tipo de objeto: {type(img_mpl)}\")\n",
        "print(f\"Tipo de dato: {img_mpl.dtype}\")\n",
        "print(f\"Tamaño en memoria: {img_mpl.nbytes / 1024:.2f} KB\")\n",
        "\n",
        "# 2. OpenCV\n",
        "print(\"\\n=== OPENCV ===\")\n",
        "print(\"House\")\n",
        "img_cv = cv2.imread(house)\n",
        "print(f\"Tipo de objeto: {type(img_cv)}\")\n",
        "print(f\"Tipo de dato: {img_cv.dtype}\")\n",
        "print(f\"Tamaño en memoria: {img_cv.nbytes / 1024:.2f} KB\")\n",
        "print(f\"Orden de canales: BGR\")\n",
        "\n",
        "# 3. Scikit-Image\n",
        "print(\"\\n=== SCIKIT-IMAGE ===\")\n",
        "print(\"Lake\")\n",
        "img_ski = io.imread(lake)\n",
        "print(f\"Tipo de objeto: {type(img_ski)}\")\n",
        "print(f\"Tipo de dato: {img_ski.dtype}\")\n",
        "print(f\"Tamaño en memoria: {img_ski.nbytes / 1024:.2f} KB\")\n",
        "\n",
        "# 4. PIL\n",
        "print(\"\\n=== PIL ===\")\n",
        "print(\"Lena\")\n",
        "img_pil = Image.open(lena)\n",
        "print(f\"Tipo de objeto: {type(img_pil)}\")\n",
        "print(f\"Formato: {img_pil.format}\")\n",
        "print(f\"Modo: {img_pil.mode}\")\n",
        "print(f\"Tamaño: {img_pil.size}\")\n",
        "# Convertir a array para ver tipo de dato\n",
        "img_array = np.array(img_pil)\n",
        "print(f\"Dimensiones como array: {img_array.shape}\")\n",
        "print(f\"Tipo de dato: {img_array.dtype}\")\n",
        "print(f\"Tamaño en memoria: {img_array.nbytes / 1024:.2f} KB\")"
      ]
    },
    {
      "cell_type": "markdown",
      "metadata": {},
      "source": [
        "#### 4.1.3.De las imágenes “lena_color_512.tif”, “peppers_color.tif”. Desarrolla un script con OpenCV y Scikit-Image para cambiar el espacio de color de y despliegue en grises cada uno de los componentes resultantes de la imagen: \n",
        "* RGB a Escala de grises\n",
        "* RGB a YUV\n",
        "* RGB a HSV"
      ]
    },
    {
      "cell_type": "code",
      "execution_count": null,
      "metadata": {},
      "outputs": [],
      "source": [
        "import cv2\n",
        "import matplotlib.pyplot as plt\n",
        "from skimage import io, color\n",
        "import numpy as np\n",
        "\n",
        "# Función para mostrar imágenes en subplots\n",
        "def mostrar_imagenes(imagenes, titulos, filas, cols, figsize=(15, 10)):\n",
        "    plt.figure(figsize=figsize)\n",
        "    for i, (img, titulo) in enumerate(zip(imagenes, titulos), 1):\n",
        "        plt.subplot(filas, cols, i)\n",
        "        plt.imshow(img, cmap='gray')\n",
        "        plt.title(titulo)\n",
        "        plt.axis('off')\n",
        "    plt.tight_layout()\n",
        "    plt.show()\n",
        "\n",
        "# Cargar las dos imágenes\n",
        "img1_path = 'Images/cameraman.tif'\n",
        "img2_path = 'Images/lena_color_512.tif'\n",
        "\n",
        "# OpenCV\n",
        "print(\"=== Conversiones con OpenCV ===\")\n",
        "\n",
        "# Leer imágenes con OpenCV\n",
        "img1_cv = cv2.imread(img1_path)\n",
        "img2_cv = cv2.imread(img2_path)\n",
        "\n",
        "# 1. RGB a Escala de grises\n",
        "img1_gray_cv = cv2.cvtColor(img1_cv, cv2.COLOR_BGR2GRAY)\n",
        "img2_gray_cv = cv2.cvtColor(img2_cv, cv2.COLOR_BGR2GRAY)\n",
        "\n",
        "# 2. RGB a YUV\n",
        "img1_yuv_cv = cv2.cvtColor(img1_cv, cv2.COLOR_BGR2YUV)\n",
        "img2_yuv_cv = cv2.cvtColor(img2_cv, cv2.COLOR_BGR2YUV)\n",
        "\n",
        "# 3. RGB a HSV\n",
        "img1_hsv_cv = cv2.cvtColor(img1_cv, cv2.COLOR_BGR2HSV)\n",
        "img2_hsv_cv = cv2.cvtColor(img2_cv, cv2.COLOR_BGR2HSV)\n",
        "\n",
        "# Mostrar resultados OpenCV - Imagen 1\n",
        "mostrar_imagenes(\n",
        "    [img1_gray_cv,\n",
        "     img1_yuv_cv[:,:,0], img1_yuv_cv[:,:,1], img1_yuv_cv[:,:,2],\n",
        "     img1_hsv_cv[:,:,0], img1_hsv_cv[:,:,1], img1_hsv_cv[:,:,2]],\n",
        "    ['Gray', 'Y (YUV)', 'U (YUV)', 'V (YUV)', 'H (HSV)', 'S (HSV)', 'V (HSV)'],\n",
        "    3, 3\n",
        ")\n",
        "\n",
        "# Mostrar resultados OpenCV - Imagen 2\n",
        "mostrar_imagenes(\n",
        "    [img2_gray_cv,\n",
        "     img2_yuv_cv[:,:,0], img2_yuv_cv[:,:,1], img2_yuv_cv[:,:,2],\n",
        "     img2_hsv_cv[:,:,0], img2_hsv_cv[:,:,1], img2_hsv_cv[:,:,2]],\n",
        "    ['Gray', 'Y (YUV)', 'U (YUV)', 'V (YUV)', 'H (HSV)', 'S (HSV)', 'V (HSV)'],\n",
        "    3, 3\n",
        ")\n",
        "\n",
        "print(\"\\n=== Conversiones con Scikit-Image ===\")\n",
        "\n",
        "# Leer imágenes con Scikit-Image\n",
        "img1_ski = io.imread(img1_path)\n",
        "img2_ski = io.imread(img2_path)\n",
        "\n",
        "# 1. RGB a Escala de grises\n",
        "\n",
        "img1_gray_ski = color.rgb2gray(img1_ski) # If color, convert to grayscale\n",
        "img2_gray_ski = color.rgb2gray(img2_ski)\n",
        "\n",
        "# 2. RGB a YUV\n",
        "img1_yuv_ski = color.rgb2yuv(img1_ski)\n",
        "img2_yuv_ski = color.rgb2yuv(img2_ski)\n",
        "\n",
        "# 3. RGB a HSV\n",
        "img1_hsv_ski = color.rgb2hsv(img1_ski)\n",
        "img2_hsv_ski = color.rgb2hsv(img2_ski)\n",
        "\n",
        "# Mostrar resultados Scikit-Image - Imagen 1\n",
        "mostrar_imagenes(\n",
        "    [img1_gray_ski,\n",
        "     img1_yuv_ski[:,:,0], img1_yuv_ski[:,:,1], img1_yuv_ski[:,:,2],\n",
        "     img1_hsv_ski[:,:,0], img1_hsv_ski[:,:,1], img1_hsv_ski[:,:,2]],\n",
        "    ['Gray', 'Y (YUV)', 'U (YUV)', 'V (YUV)', 'H (HSV)', 'S (HSV)', 'V (HSV)'],\n",
        "    3, 3\n",
        ")\n",
        "\n",
        "# Mostrar resultados Scikit-Image - Imagen 2\n",
        "mostrar_imagenes(\n",
        "    [img2_gray_ski,\n",
        "     img2_yuv_ski[:,:,0], img2_yuv_ski[:,:,1], img2_yuv_ski[:,:,2],\n",
        "     img2_hsv_ski[:,:,0], img2_hsv_ski[:,:,1], img2_hsv_ski[:,:,2]],\n",
        "    ['Gray', 'Y (YUV)', 'U (YUV)', 'V (YUV)', 'H (HSV)', 'S (HSV)', 'V (HSV)'],\n",
        "    3, 3\n",
        ")"
      ]
    },
    {
      "cell_type": "markdown",
      "metadata": {
        "id": "HZf8WZ1nREy4"
      },
      "source": [
        "### 4.2.Usando funciones de Python ya existentes y la imagen que usted escoja.\n",
        "* Reajusta el tamaño de la carpeta imágenes a 5 veces su tamaño original\n",
        "* Reajusta el tamaño de la carpeta imágenes a 3 veces el tamaño original."
      ]
    },
    {
      "cell_type": "code",
      "execution_count": null,
      "metadata": {
        "id": "AsZTJS3MRMYH"
      },
      "outputs": [],
      "source": [
        "import matplotlib.pyplot as plt\n",
        "from scipy import ndimage\n",
        "import imageio\n",
        "\n",
        "image = imageio.imread('Images/lake.png')\n",
        "\n",
        "zoom_factor = 5\n",
        "# zoom_factor = 3\n",
        "\n",
        "resized_image = ndimage.zoom(image, (zoom_factor, zoom_factor, 1))\n",
        "\n",
        "fig, ax = plt.subplots(1, 2, figsize=(15, 8))\n",
        "\n",
        "ax[0].imshow(image)\n",
        "ax[1].imshow(resized_image)\n",
        "\n",
        "plt.show()"
      ]
    },
    {
      "cell_type": "markdown",
      "metadata": {
        "id": "PHlfFp0tzMgz"
      },
      "source": [
        "* Rote la imagen a 45, 90 y 180 grados, guárdelas en formato png."
      ]
    },
    {
      "cell_type": "code",
      "execution_count": null,
      "metadata": {
        "id": "3T2m1vQHzHWl"
      },
      "outputs": [],
      "source": [
        "import matplotlib.pyplot as plt\n",
        "from scipy import ndimage\n",
        "from imageio import imread, imsave\n",
        "\n",
        "# lectura de la imagen\n",
        "image = imread('Images/lake.png')\n",
        "\n",
        "# rotación de la imagen\n",
        "rotated_image = ndimage.rotate(image, 45)\n",
        "\n",
        "# Creación de la figura y ejes\n",
        "plt.imshow(rotated_image)\n",
        "\n",
        "# Mostrar imágenes con etiquetas\n",
        "plt.show()"
      ]
    },
    {
      "cell_type": "markdown",
      "metadata": {
        "id": "tQab-xdERNwv"
      },
      "source": [
        "### 4.3.Convierte la imagen peppers_color.tif a escala de grises,\n",
        "* Recórtela de manera que solo quede uno de los pimientos verdes en ese recorte\n",
        "* Guárdela en formato .jpg."
      ]
    },
    {
      "cell_type": "code",
      "execution_count": null,
      "metadata": {
        "id": "zjeVnY0TRRXq"
      },
      "outputs": [],
      "source": [
        "import cv2\n",
        "import matplotlib.pyplot as plt\n",
        "\n",
        "# lee la imagen\n",
        "image = cv2.imread(\"Images/peppers_color2.jpg\")\n",
        "\n",
        "# convierte la imagen a escala de grises\n",
        "gray_image = cv2.cvtColor(image, cv2.COLOR_BGR2GRAY)\n",
        "\n",
        "# Recortando la imagen\n",
        "x_start, y_start, x_end, y_end = 180, 178, 423, 490\n",
        "cropped_image = gray_image[y_start:y_end, x_start:x_end]\n",
        "\n",
        "# despliega la imagen\n",
        "cv2.imwrite('Imagescrop_peppers_gray.jpg', cropped_image)\n",
        "plt.imshow(cropped_image, cmap=\"gray\")\n",
        "plt.show()"
      ]
    },
    {
      "cell_type": "markdown",
      "metadata": {
        "id": "6EUXeXrnRRmu"
      },
      "source": [
        "### 4.4.Un formato de imágenes sin ningún tipo de codificación se conoce como formato crudo\n",
        "(RAW). De la imagen “rosa800x600.raw” lea y despliegue la imagen. Tome en cuenta que\n",
        "esta imagen maneja la precisión de integer8 y el tamaño es de 600x800 pixeles."
      ]
    },
    {
      "cell_type": "code",
      "execution_count": null,
      "metadata": {
        "colab": {
          "base_uri": "https://localhost:8080/",
          "height": 406
        },
        "id": "8o6jbZbYRUis",
        "outputId": "e5c3f074-875d-4051-a775-67900681527a"
      },
      "outputs": [],
      "source": [
        "import matplotlib.pyplot as plt\n",
        "import numpy as np\n",
        "\n",
        "image = np.fromfile('Images/rosa800x600.raw', dtype=np.uint8)\n",
        "image.shape = (800, 600)\n",
        "\n",
        "plt.imshow(image, cmap='gray')\n",
        "plt.axis(False)\n",
        "plt.show()"
      ]
    },
    {
      "cell_type": "markdown",
      "metadata": {},
      "source": [
        "### 4.5. De la imagen en grises que usted escoja obtenga información estadística como es la media de sus valores, el máximo, el mínimo y el histograma."
      ]
    },
    {
      "cell_type": "code",
      "execution_count": null,
      "metadata": {},
      "outputs": [],
      "source": [
        "#!pip install matplotlib\n",
        "#!pip install numpy\n",
        "\n",
        "import matplotlib.image as mpimg\n",
        "import matplotlib.pyplot as plt\n",
        "import numpy as np\n",
        "\n",
        "# Cargar la imagen en grises\n",
        "img = mpimg.imread('Images/cameraman.tif')\n",
        "\n",
        "# Calcular información estadística\n",
        "mean_val = np.mean(img)  # Calcular la media de los valores de los píxeles\n",
        "max_val = np.max(img)    # Calcular el valor máximo de los píxeles\n",
        "min_val = np.min(img)    # Calcular el valor mínimo de los píxeles\n",
        "median_val = np.median(img)  # Calcular la mediana de los valores de los píxeles\n",
        "std_dev = np.std(img)    # Calcular la desviación estándar de los valores de los píxeles\n",
        "variance = np.var(img)   # Calcular la varianza de los valores de los píxeles\n",
        "mode_val = np.bincount(img.ravel().astype(int)).argmax()  # Calcular la moda de los valores de los píxeles\n",
        "percentiles = np.percentile(img, [25, 50, 75])  # Calcular los percentiles 25, 50 (mediana) y 75\n",
        "\n",
        "# Imprimir la información estadística\n",
        "print(f\"Media: {mean_val}\")\n",
        "print(f\"Máximo: {max_val}\")\n",
        "print(f\"Mínimo: {min_val}\")\n",
        "print(f\"Mediana: {median_val}\")\n",
        "print(f\"Desviación Estándar: {std_dev}\")\n",
        "print(f\"Varianza: {variance}\")\n",
        "print(f\"Moda: {mode_val}\")\n",
        "print(f\"Percentiles (25, 50, 75): {percentiles} \\n\")\n",
        "\n",
        "# Graficar el histograma\n",
        "plt.hist(img.ravel(), bins=256, color='gray', alpha=0.7)\n",
        "plt.title('Histograma de la Imagen en Grises')\n",
        "plt.xlabel('Intensidad de Píxel')\n",
        "plt.ylabel('Frecuencia')\n",
        "plt.show()"
      ]
    },
    {
      "cell_type": "markdown",
      "metadata": {},
      "source": [
        "### 4.6.De esta misma imagen investigue como debo leerla para obtener su meta-información. Desplegarla la información en su corrida."
      ]
    },
    {
      "cell_type": "code",
      "execution_count": null,
      "metadata": {},
      "outputs": [],
      "source": [
        "#!pip install pillow\n",
        "#!pip install exif\n",
        "from PIL import Image\n",
        "\n",
        "# Cargar la imagen\n",
        "image = Image.open('Images/cameraman.tif')\n",
        "\n",
        "# Obtener la meta-información\n",
        "meta_info = image.info\n",
        "\n",
        "# Desplegar la meta-información\n",
        "print(\"Meta-información de la imagen:\")\n",
        "for key, value in meta_info.items():\n",
        "    print(f\"{key}: {value}\")\n",
        "\n",
        "from exif import Image\n",
        "\n",
        "# Cargar la imagen\n",
        "with open('Images/cameraman.tif', 'rb') as img_file:\n",
        "    img = Image(img_file)\n",
        "\n",
        "# Verificar si la imagen contiene metadatos EXIF\n",
        "if img.has_exif:\n",
        "    print(\"La imagen contiene metadatos EXIF.\")\n",
        "    # Listar todos los atributos EXIF disponibles\n",
        "    for attribute in dir(img):\n",
        "        if attribute.startswith('_'):\n",
        "            continue\n",
        "        print(f\"{attribute}: {getattr(img, attribute)}\")\n",
        "else:\n",
        "    print(\"La imagen no contiene metadatos EXIF.\")"
      ]
    },
    {
      "cell_type": "markdown",
      "metadata": {},
      "source": [
        "### 4.7.A la imagen “lena_color_512.tif” pasarla a grises, y aplicarle un filtro Gausiano y uno laplaciano, despliegue las imágenes resultantes. Compare sus resultados e investigue porque es preferible utilizar un filtro basado en un modelo Gausiano."
      ]
    },
    {
      "cell_type": "code",
      "execution_count": null,
      "metadata": {},
      "outputs": [],
      "source": [
        "import cv2\n",
        "import numpy as np\n",
        "import matplotlib.pyplot as plt\n",
        "\n",
        "# Leer la imagen\n",
        "img = cv2.imread('Images/lena_color_512.tif')\n",
        "img = cv2.cvtColor(img, cv2.COLOR_BGR2RGB)\n",
        "\n",
        "# Convertir a escala de grises\n",
        "img_gray = cv2.cvtColor(img, cv2.COLOR_RGB2GRAY)\n",
        "\n",
        "# Aplicar filtro Gaussiano\n",
        "# kernel 5x5 y sigma=1\n",
        "gaussian = cv2.GaussianBlur(img_gray, (5,5), 1)\n",
        "\n",
        "# Aplicar filtro Laplaciano\n",
        "# kernel por defecto (1)\n",
        "laplacian = cv2.Laplacian(img_gray, cv2.CV_64F)\n",
        "laplacian = np.uint8(np.absolute(laplacian))\n",
        "\n",
        "# Visualizar resultados\n",
        "plt.figure(figsize=(15,5))\n",
        "\n",
        "plt.subplot(131)\n",
        "plt.imshow(img_gray, cmap='gray')\n",
        "plt.title('Imagen Original en Grises')\n",
        "plt.axis('off')\n",
        "\n",
        "plt.subplot(132)\n",
        "plt.imshow(gaussian, cmap='gray')\n",
        "plt.title('Filtro Gaussiano')\n",
        "plt.axis('off')\n",
        "\n",
        "plt.subplot(133)\n",
        "plt.imshow(laplacian, cmap='gray')\n",
        "plt.title('Filtro Laplaciano')\n",
        "plt.axis('off')\n",
        "\n",
        "plt.tight_layout()\n",
        "plt.show()\n",
        "\n",
        "# Mostrar diferencias numéricas\n",
        "print(\"Información estadística:\")\n",
        "print(f\"Desviación estándar - Original: {np.std(img_gray):.2f}\")\n",
        "print(f\"Desviación estándar - Gaussiano: {np.std(gaussian):.2f}\")\n",
        "print(f\"Desviación estándar - Laplaciano: {np.std(laplacian):.2f}\")\n"
      ]
    }
  ],
  "metadata": {
    "colab": {
      "provenance": []
    },
    "kernelspec": {
      "display_name": "Python 3",
      "name": "python3"
    },
    "language_info": {
      "codemirror_mode": {
        "name": "ipython",
        "version": 3
      },
      "file_extension": ".py",
      "mimetype": "text/x-python",
      "name": "python",
      "nbconvert_exporter": "python",
      "pygments_lexer": "ipython3",
      "version": "3.9.6"
    }
  },
  "nbformat": 4,
  "nbformat_minor": 0
}
